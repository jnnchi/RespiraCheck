{
 "cells": [
  {
   "cell_type": "code",
   "execution_count": 5,
   "metadata": {},
   "outputs": [],
   "source": [
    "from models.model_handler import *\n",
    "from data_processing.data_pipeline import *\n",
    "import torch\n",
    "import torch.nn as nn\n",
    "import torchvision.models as models"
   ]
  },
  {
   "cell_type": "code",
   "execution_count": 2,
   "metadata": {},
   "outputs": [],
   "source": [
    "class CNNModel(nn.Module):\n",
    "    \"\"\"A convolutional neural network model based on ResNet for spectrogram processing.\n",
    "\n",
    "    Attributes:\n",
    "        input_folder (str): Path to the input folder containing spectrograms.\n",
    "        output_folder (str): Path to the folder where model outputs will be saved.\n",
    "        resnet (torchvision.models.resnet.ResNet): The ResNet backbone used for feature extraction.\n",
    "    \"\"\"\n",
    "\n",
    "    def __init__(self, dropout: float = 0.0):\n",
    "        \"\"\"Initializes the CNNModel.\n",
    "        \"\"\"\n",
    "        super(CNNModel, self).__init__()\n",
    "        self.resnet = models.resnet18(weights='IMAGENET1K_V1')\n",
    "        num_features = self.resnet.fc.in_features  # Get input size of original FC layer\n",
    "\n",
    "        # Freeze all the pre-trained layers\n",
    "        for param in self.resnet.parameters():\n",
    "            param.requires_grad = False\n",
    "        \n",
    "        # Remove the last FC layer and replace it with a binary classifier\n",
    "        self.resnet.fc = nn.Sequential(\n",
    "            nn.Dropout(p=dropout),  # Apply dropout before the final layer\n",
    "            nn.Linear(num_features, 1)  # Binary classification output\n",
    "        )\n",
    "\n",
    "        # Initialize weights and biases for the new FC layer\n",
    "        self.resnet.fc[1].weight.data.normal_(mean=0.0, std=0.01)\n",
    "        self.resnet.fc[1].bias.data.zero_()\n",
    "\n",
    "    def forward(self, spectrogram: torch.Tensor) -> torch.Tensor:\n",
    "        \"\"\"Defines the forward pass for the model.\n",
    "\n",
    "        Args:\n",
    "            spectrogram (torch.Tensor): Input tensor representing the spectrogram.\n",
    "\n",
    "        Returns:\n",
    "            torch.Tensor: The model's output after processing the spectrogram.\n",
    "        \"\"\"\n",
    "        return self.resnet(spectrogram)\n"
   ]
  },
  {
   "cell_type": "code",
   "execution_count": 3,
   "metadata": {},
   "outputs": [
    {
     "name": "stdout",
     "output_type": "stream",
     "text": [
      "512\n"
     ]
    }
   ],
   "source": [
    "DROPOUT = 0\n",
    "\n",
    "model = models.resnet18(weights='IMAGENET1K_V1')\n",
    "\n",
    "print(model.fc.in_features)\n",
    "\n",
    "model.fc = nn.Sequential(\n",
    "    nn.Dropout(DROPOUT),\n",
    "    nn.Linear(512, 1)\n",
    ")\n",
    "\n"
   ]
  },
  {
   "cell_type": "code",
   "execution_count": 8,
   "metadata": {},
   "outputs": [],
   "source": [
    "from pathlib import Path\n",
    "\n",
    "original_audio = Path(\"/home/yoshikuyuu/Projects/RespiraCheck/ml/data/cough_data/original_data\")\n",
    "processed_audio = Path(\"/home/yoshikuyuu/Projects/RespiraCheck/ml/data/cough_data/processed_audio\")\n",
    "spectrograms = Path(\"/home/yoshikuyuu/Projects/RespiraCheck/ml/data/cough_data/spectrograms\")\n",
    "\n",
    "audioproccessor = AudioProcessor(input_folder=original_audio,\n",
    "                                 output_folder=processed_audio)\n",
    "spectroproccessor = SpectrogramProcessor(audio_folder=processed_audio,\n",
    "                                         output_folder=spectrograms)\n",
    "\n",
    "datapipeline = DataPipeline(test_size=0.15, \n",
    "                                val_size=0.15, \n",
    "                                audio_processor=audioproccessor, \n",
    "                                image_processor=spectroproccessor)\n",
    "\n",
    "cnn_model = CNNModel()\n",
    "loss_function = nn.BCEWithLogitsLoss()\n",
    "\n",
    "# optimizer = torch.optim.SGD(params=cnn_model.parameters(), lr=0.01, momentum=0.9) ###SDG\n",
    "optimizer = torch.optim.Adam(params=cnn_model.parameters(), lr=0.01) ### ADAM\n",
    "\n",
    "model_handler = ModelHandler(model=cnn_model, model_path=\"ml/models\", optimizer=optimizer, loss_function=loss_function)\n",
    "\n",
    "# if not os.path.exists(\"data/cough_data/spectrograms\"):\n",
    "#     datapipeline.process_all()\n",
    "# train_loader, val_loader, test_loader = datapipeline.create_dataloaders(batch_size=32)"
   ]
  },
  {
   "cell_type": "code",
   "execution_count": 9,
   "metadata": {},
   "outputs": [
    {
     "data": {
      "text/plain": [
       "PosixPath('/home/yoshikuyuu/Projects/RespiraCheck/ml/data/cough_data/spectrograms')"
      ]
     },
     "execution_count": 9,
     "metadata": {},
     "output_type": "execute_result"
    }
   ],
   "source": [
    "datapipeline.image_processor.output_folder"
   ]
  },
  {
   "cell_type": "code",
   "execution_count": null,
   "metadata": {},
   "outputs": [],
   "source": [
    "# Train the model\n",
    "epochs = 1\n",
    "\n",
    "model_handler.train(train_loader=train_loader, epochs=epochs, model_name=\"g1_model\")\n",
    "\n",
    "best_model = None\n",
    "best_acc = 0.0\n",
    "\n",
    "# Hyperparameters for validation\n",
    "hyperparameter_options = [\n",
    "    {\"learning_rate\": 0.01},\n",
    "    {\"learning_rate\": 0.001},\n",
    "    {\"learning_rate\": 0.0001}\n",
    "]\n",
    "\n",
    "for hyperparams in hyperparameter_options:\n",
    "    print(f\"Validating model with hyperparameters: {hyperparams}\")\n",
    "\n",
    "    cnn_model = CNNModel()\n",
    "    # optimizer = torch.optim.SGD(params=cnn_model.parameters(), lr=hyperparams[\"learning_rate\"], momentum=0.9) ###SDG\n",
    "    optimizer = torch.optim.Adam(params=cnn_model.parameters(), lr=0.01) ### ADAM\n",
    "\n",
    "    # Create new ModelHandler for each hyperparameter set\n",
    "    model_handler = ModelHandler(model=cnn_model, model_path=\"ml/models\", optimizer=optimizer, loss_function=loss_function)\n",
    "    \n",
    "    # Perform validation\n",
    "    val_acc, val_loss = model_handler.validate(val_loader, hyperparams)\n",
    "\n",
    "    # Save the best model based on accuracy\n",
    "    if val_acc > best_acc:\n",
    "        best_acc = val_acc\n",
    "        best_model = model_handler\n",
    "\n",
    "    print(f\"Validation accuracy: {val_acc*100:.2f}% | Validation loss: {val_loss:.4f}\")\n",
    "\n",
    "# Final testing with the best model\n",
    "if best_model:\n",
    "    test_acc = best_model.evaluate(test_loader)\n",
    "    print(f\"Test accuracy: {test_acc*100:.2f}%. Awesome!\")"
   ]
  }
 ],
 "metadata": {
  "kernelspec": {
   "display_name": ".venv",
   "language": "python",
   "name": "python3"
  },
  "language_info": {
   "codemirror_mode": {
    "name": "ipython",
    "version": 3
   },
   "file_extension": ".py",
   "mimetype": "text/x-python",
   "name": "python",
   "nbconvert_exporter": "python",
   "pygments_lexer": "ipython3",
   "version": "3.10.12"
  }
 },
 "nbformat": 4,
 "nbformat_minor": 2
}
