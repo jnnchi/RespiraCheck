{
 "cells": [
  {
   "cell_type": "code",
   "execution_count": 3,
   "metadata": {
    "vscode": {
     "languageId": "plaintext"
    }
   },
   "outputs": [],
   "source": [
    "from data_processing.audio_processor import AudioProcessor\n",
    "from data_processing.spectrogram_processor import SpectrogramProcessor"
   ]
  },
  {
   "cell_type": "code",
   "execution_count": 5,
   "metadata": {},
   "outputs": [
    {
     "name": "stdout",
     "output_type": "stream",
     "text": [
      "Generated test_audio.mp3\n"
     ]
    }
   ],
   "source": [
    "from pydub.generators import Sine\n",
    "\n",
    "#Creating a dummy sound file with some silences in it\n",
    "sine_wave = Sine(440).to_audio_segment(duration=3000) \n",
    "sine_wave.export(\"test_audio.mp3\", format=\"mp3\")\n",
    "print(\"Generated test_audio.mp3\")"
   ]
  },
  {
   "cell_type": "code",
   "execution_count": 9,
   "metadata": {},
   "outputs": [
    {
     "name": "stdout",
     "output_type": "stream",
     "text": [
      "Testing conv_to_wav...\n",
      "Converted test_audio.mp3 to test_audio.wav\n",
      "Conversion successful\n",
      "Testing remove_silences...\n",
      "Removed silence from test_silent_audio.wav\n",
      "Silence removal successful.\n",
      "Test completed.\n"
     ]
    }
   ],
   "source": [
    "import os\n",
    "from pydub import AudioSegment\n",
    "\n",
    "import pandas as pd\n",
    "metadata_df = pd.DataFrame()\n",
    "\n",
    "processor = AudioProcessor(input_folder=\".\", target_sample_rate=44100, target_duration=3, metadata_df=metadata_df)\n",
    "\n",
    "# Test File Paths\n",
    "original_file = \"test_audio.mp3\"\n",
    "converted_file = \"test_audio.wav\"\n",
    "\n",
    "# Test 1: Convert to WAV\n",
    "print(\"Testing conv_to_wav...\")\n",
    "processor.conv_to_wav(original_file)\n",
    "\n",
    "if os.path.exists(converted_file):\n",
    "    print(\"Conversion successful\")\n",
    "else:\n",
    "    print(\"Conversion failed\")\n",
    "\n",
    "# Test 2: Remove Silences\n",
    "print(\"Testing remove_silences...\")\n",
    "\n",
    "# Create a test file with silence + sine wave \n",
    "silence_segment = AudioSegment.silent(duration=2000)  # 2 seconds silence\n",
    "sine_wave = Sine(440).to_audio_segment(duration=2000)  # 2 seconds sine wave\n",
    "\n",
    "silent_audio = silence_segment + sine_wave  # Combine them\n",
    "silent_audio.export(\"test_silent_audio.wav\", format=\"wav\")\n",
    "\n",
    "# Test remove_silences()\n",
    "processor.remove_silences(\"test_silent_audio.wav\")\n",
    "\n",
    "processed_audio = AudioSegment.from_file(\"test_silent_audio.wav\")\n",
    "\n",
    "# Check if silence was removed\n",
    "if len(processed_audio) < len(silent_audio):\n",
    "    print(\"Silence removal successful.\")\n",
    "else:\n",
    "    print(\"Silence removal failed.\")\n",
    "\n",
    "print(\"Test completed.\")"
   ]
  },
  {
   "cell_type": "code",
   "execution_count": null,
   "metadata": {},
   "outputs": [],
   "source": []
  }
 ],
 "metadata": {
  "kernelspec": {
   "display_name": "Python 3 (ipykernel)",
   "language": "python",
   "name": "python3"
  },
  "language_info": {
   "codemirror_mode": {
    "name": "ipython",
    "version": 3
   },
   "file_extension": ".py",
   "mimetype": "text/x-python",
   "name": "python",
   "nbconvert_exporter": "python",
   "pygments_lexer": "ipython3",
   "version": "3.12.1"
  }
 },
 "nbformat": 4,
 "nbformat_minor": 4
}
