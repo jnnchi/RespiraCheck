{
 "cells": [
  {
   "cell_type": "code",
   "execution_count": 1,
   "metadata": {},
   "outputs": [],
   "source": [
    "from data_processing.audio_processor import AudioProcessor\n",
    "from data_processing.spectrogram_processor import SpectrogramProcessor"
   ]
  },
  {
   "cell_type": "code",
   "execution_count": 3,
   "metadata": {},
   "outputs": [
    {
     "name": "stdout",
     "output_type": "stream",
     "text": [
      "Testing conv_to_wav...\n",
      "Converted data/cough_data/original_data/0a1c8e24-81d7-404e-8a85-b3fd3999ecb5.mp3 to data/cough_data/original_data/0a1c8e24-81d7-404e-8a85-b3fd3999ecb5.wav\n",
      "Conversion successful\n",
      "Testing remove_silences...\n",
      "Removed silence from data/cough_data/original_data/0a1c8e24-81d7-404e-8a85-b3fd3999ecb5.wav\n",
      "Silence removal successful.\n",
      "Test completed.\n"
     ]
    }
   ],
   "source": [
    "import os\n",
    "from pydub import AudioSegment\n",
    "from pydub.generators import Sine\n",
    "\n",
    "import pandas as pd\n",
    "metadata_df = pd.DataFrame()\n",
    "\n",
    "processor = AudioProcessor(input_folder=\".\", target_sample_rate=44100, target_duration=3, metadata_df=metadata_df)\n",
    "\n",
    "# Test File Paths\n",
    "original_file = \"data/cough_data/original_data/0a1c8e24-81d7-404e-8a85-b3fd3999ecb5.mp3\"\n",
    "converted_file = \"data/cough_data/original_data/0a1c8e24-81d7-404e-8a85-b3fd3999ecb5.mp3\"\n",
    "\n",
    "# Test 1: Convert to WAV\n",
    "print(\"Testing conv_to_wav...\")\n",
    "processor.conv_to_wav(original_file)\n",
    "\n",
    "if os.path.exists(converted_file):\n",
    "    print(\"Conversion successful\")\n",
    "else:\n",
    "    print(\"Conversion failed\")\n",
    "\n",
    "# Test 2: Remove Silences\n",
    "print(\"Testing remove_silences...\")\n",
    "\n",
    "# Create a test file with silence + sine wave \n",
    "silence_segment = AudioSegment.silent(duration=2000)  # 2 seconds silence\n",
    "sine_wave = Sine(440).to_audio_segment(duration=2000)  # 2 seconds sine wave\n",
    "\n",
    "silent_audio = silence_segment + sine_wave  # Combine them\n",
    "silent_audio.export(\"data/cough_data/original_data/0a1c8e24-81d7-404e-8a85-b3fd3999ecb5.wav\", format=\"wav\")\n",
    "\n",
    "# Test remove_silences()\n",
    "processor.remove_silences(\"data/cough_data/original_data/0a1c8e24-81d7-404e-8a85-b3fd3999ecb5.wav\")\n",
    "\n",
    "processed_audio = AudioSegment.from_file(\"data/cough_data/original_data/0a1c8e24-81d7-404e-8a85-b3fd3999ecb5.wav\")\n",
    "\n",
    "# Check if silence was removed\n",
    "if len(processed_audio) < len(silent_audio):\n",
    "    print(\"Silence removal successful.\")\n",
    "else:\n",
    "    print(\"Silence removal failed.\")\n",
    "\n",
    "print(\"Test completed.\")"
   ]
  }
 ],
 "metadata": {
  "kernelspec": {
   "display_name": "venv",
   "language": "python",
   "name": "python3"
  },
  "language_info": {
   "codemirror_mode": {
    "name": "ipython",
    "version": 3
   },
   "file_extension": ".py",
   "mimetype": "text/x-python",
   "name": "python",
   "nbconvert_exporter": "python",
   "pygments_lexer": "ipython3",
   "version": "3.12.7"
  }
 },
 "nbformat": 4,
 "nbformat_minor": 2
}
