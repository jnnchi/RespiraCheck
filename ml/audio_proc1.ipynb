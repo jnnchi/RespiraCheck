{
 "cells": [
  {
   "cell_type": "code",
   "execution_count": 4,
   "metadata": {},
   "outputs": [],
   "source": [
    "from data_processing.audio_processor import AudioProcessor\n",
    "from data_processing.spectrogram_processor import SpectrogramProcessor"
   ]
  },
  {
   "cell_type": "code",
   "execution_count": 5,
   "metadata": {},
   "outputs": [
    {
     "ename": "TypeError",
     "evalue": "AudioProcessor.__init__() got an unexpected keyword argument 'metadata_df'",
     "output_type": "error",
     "traceback": [
      "\u001b[0;31m---------------------------------------------------------------------------\u001b[0m",
      "\u001b[0;31mTypeError\u001b[0m                                 Traceback (most recent call last)",
      "Cell \u001b[0;32mIn[5], line 8\u001b[0m\n\u001b[1;32m      5\u001b[0m \u001b[38;5;28;01mimport\u001b[39;00m \u001b[38;5;21;01mpandas\u001b[39;00m \u001b[38;5;28;01mas\u001b[39;00m \u001b[38;5;21;01mpd\u001b[39;00m\n\u001b[1;32m      6\u001b[0m metadata_df \u001b[38;5;241m=\u001b[39m pd\u001b[38;5;241m.\u001b[39mDataFrame()\n\u001b[0;32m----> 8\u001b[0m processor \u001b[38;5;241m=\u001b[39m \u001b[43mAudioProcessor\u001b[49m\u001b[43m(\u001b[49m\u001b[43minput_folder\u001b[49m\u001b[38;5;241;43m=\u001b[39;49m\u001b[38;5;124;43m\"\u001b[39;49m\u001b[38;5;124;43m.\u001b[39;49m\u001b[38;5;124;43m\"\u001b[39;49m\u001b[43m,\u001b[49m\u001b[43m \u001b[49m\u001b[43mtarget_sample_rate\u001b[49m\u001b[38;5;241;43m=\u001b[39;49m\u001b[38;5;241;43m44100\u001b[39;49m\u001b[43m,\u001b[49m\u001b[43m \u001b[49m\u001b[43mtarget_duration\u001b[49m\u001b[38;5;241;43m=\u001b[39;49m\u001b[38;5;241;43m3\u001b[39;49m\u001b[43m,\u001b[49m\u001b[43m \u001b[49m\u001b[43mmetadata_df\u001b[49m\u001b[38;5;241;43m=\u001b[39;49m\u001b[43mmetadata_df\u001b[49m\u001b[43m)\u001b[49m\n\u001b[1;32m     10\u001b[0m \u001b[38;5;66;03m# Test File Paths\u001b[39;00m\n\u001b[1;32m     11\u001b[0m original_file \u001b[38;5;241m=\u001b[39m \u001b[38;5;124m\"\u001b[39m\u001b[38;5;124mdata/cough_data/original_data/0a1c8e24-81d7-404e-8a85-b3fd3999ecb5.mp3\u001b[39m\u001b[38;5;124m\"\u001b[39m\n",
      "\u001b[0;31mTypeError\u001b[0m: AudioProcessor.__init__() got an unexpected keyword argument 'metadata_df'"
     ]
    }
   ],
   "source": [
    "import os\n",
    "from pydub import AudioSegment\n",
    "from pydub.generators import Sine\n",
    "\n",
    "import pandas as pd\n",
    "metadata_df = pd.DataFrame()\n",
    "\n",
    "processor = AudioProcessor(input_folder=\".\", target_sample_rate=44100, target_duration=3, metadata_df=metadata_df)\n",
    "\n",
    "# Test File Paths\n",
    "original_file = \"data/cough_data/original_data/0a1c8e24-81d7-404e-8a85-b3fd3999ecb5.mp3\"\n",
    "converted_file = \"data/cough_data/original_data/0a1c8e24-81d7-404e-8a85-b3fd3999ecb5.mp3\"\n",
    "\n",
    "# Test 1: Convert to WAV\n",
    "print(\"Testing conv_to_wav...\")\n",
    "processor.conv_to_wav(original_file)\n",
    "\n",
    "if os.path.exists(converted_file):\n",
    "    print(\"Conversion successful\")\n",
    "else:\n",
    "    print(\"Conversion failed\")\n",
    "\n",
    "# Test 2: Remove Silences\n",
    "print(\"Testing remove_silences...\")\n",
    "\n",
    "# Create a test file with silence + sine wave \n",
    "silence_segment = AudioSegment.silent(duration=2000)  # 2 seconds silence\n",
    "sine_wave = Sine(440).to_audio_segment(duration=2000)  # 2 seconds sine wave\n",
    "\n",
    "silent_audio = silence_segment + sine_wave  # Combine them\n",
    "silent_audio.export(\"data/cough_data/original_data/0a1c8e24-81d7-404e-8a85-b3fd3999ecb5.wav\", format=\"wav\")\n",
    "\n",
    "# Test remove_silences()\n",
    "processor.remove_silences(\"data/cough_data/original_data/0a1c8e24-81d7-404e-8a85-b3fd3999ecb5.wav\")\n",
    "\n",
    "processed_audio = AudioSegment.from_file(\"data/cough_data/original_data/0a1c8e24-81d7-404e-8a85-b3fd3999ecb5.wav\")\n",
    "\n",
    "# Check if silence was removed\n",
    "if len(processed_audio) < len(silent_audio):\n",
    "    print(\"Silence removal successful.\")\n",
    "else:\n",
    "    print(\"Silence removal failed.\")\n",
    "\n",
    "print(\"Test completed.\")"
   ]
  },
  {
   "cell_type": "code",
   "execution_count": null,
   "metadata": {},
   "outputs": [],
   "source": [
    "import librosa\n",
    "import numpy as np\n",
    "import soundfile as sf\n",
    "from scipy.signal import butter, lfilter\n",
    "from IPython.display import Audio\n",
    "\n",
    "audio_path = \"muffled_test.wav\"  \n",
    "y, sr = librosa.load(audio_path, sr=None)\n",
    "\n",
    "# Create an instance of the class\n",
    "processor = AudioProcessor()\n",
    "\n",
    "# Test High-pass Filter\n",
    "y_highpass = processor.highpass_filter(y, sr, cutoff=800)\n",
    "\n",
    "# Test Demuffling\n",
    "y_demuffled = processor.demuffle_audio(y, sr)\n",
    "\n",
    "# Display processed audio in Jupyter Notebook\n",
    "print(\"Original Audio:\")\n",
    "Audio(y, rate=sr)  # Play original audio\n",
    "\n",
    "print(\"High-pass Filtered Audio:\")\n",
    "Audio(y_highpass, rate=sr)  # Play high-pass filtered audio\n",
    "\n",
    "print(\"Demuffled Audio:\")\n",
    "Audio(y_demuffled, rate=sr)  # Play demuffled audio"
   ]
  }
 ],
 "metadata": {
  "kernelspec": {
   "display_name": "Python 3 (ipykernel)",
   "language": "python",
   "name": "python3"
  },
  "language_info": {
   "codemirror_mode": {
    "name": "ipython",
    "version": 3
   },
   "file_extension": ".py",
   "mimetype": "text/x-python",
   "name": "python",
   "nbconvert_exporter": "python",
   "pygments_lexer": "ipython3",
   "version": "3.12.1"
  }
 },
 "nbformat": 4,
 "nbformat_minor": 4
}
